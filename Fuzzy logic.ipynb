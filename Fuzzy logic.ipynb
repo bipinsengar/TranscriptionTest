{
 "cells": [
  {
   "cell_type": "code",
   "execution_count": 7,
   "metadata": {},
   "outputs": [
    {
     "name": "stdout",
     "output_type": "stream",
     "text": [
      "90\n",
      "82\n"
     ]
    }
   ],
   "source": [
    "from fuzzywuzzy import fuzz\n",
    "s1=\"Please call Stella ask her to bring this thing with her from the store six spoons of fresh snow piece five thick slabs of blue cheese and maybe snacks for her brother bob. We also need a small plastic snake and a big toy frog for the kids. She could keep this things into three red bags and we will go meet her next Wednesday at the train station.\"\n",
    "s2=\"Please call Stella ask her to bring this thing for them from store six bottles of fresh know pays five six labs blue cheese and maybe snacks runner brother. Thought we also need a small plastic snake and a big toy frog for the kids. She could skip this things into three rent bags and we will go need her next Wednesday at the train station.\"\n",
    "s3=\"Please Costello, ask her to bring least things with her from the store. Six movements of personal piece five six, seven so blue cheese and maybe that's not for brother Bob, we also need a small plastic snake, a big toy front for the kids. She can scoop these things to see right bags are gonna meet for Wednesday at the train station.\"\n",
    "def compare_strings(s1,s2):\n",
    "    return fuzz.token_set_ratio(s1,s2)\n",
    "print (compare_strings(s1,s2))\n",
    "print (compare_strings(s1,s3))\n"
   ]
  },
  {
   "cell_type": "code",
   "execution_count": null,
   "metadata": {},
   "outputs": [],
   "source": []
  },
  {
   "cell_type": "code",
   "execution_count": null,
   "metadata": {},
   "outputs": [],
   "source": []
  },
  {
   "cell_type": "code",
   "execution_count": 2,
   "metadata": {},
   "outputs": [
    {
     "name": "stdout",
     "output_type": "stream",
     "text": [
      "90\n"
     ]
    }
   ],
   "source": [
    "s1=\"Please call Stella ask her to bring this thing with her from the store six spoons of fresh snow piece five thick slabs of blue cheese and maybe snacks for her brother bob. We also need a small plastic snake and a big toy frog for the kids. She could keep this things into three red bags and we will go meet her next Wednesday at the train station.\"\n",
    "s2=\"Please call Stella ask her to bring this thing for them from store six bottles of fresh know pays five six labs blue cheese and maybe snacks runner brother. Thought we also need a small plastic snake and a big toy frog for the kids. She could skip this things into three rent bags and we will go need her next Wednesday at the train station.\"\n",
    "s3=\"Please Costello, ask her to bring least things with her from the store. Six movements of personal piece five six, seven so blue cheese and maybe that's not for brother Bob, we also need a small plastic snake, a big toy front for the kids. She can scoop these things to see right bags are gonna meet for Wednesday at the train station.\"\n",
    "Ratio = fuzz.ratio(s1.lower(),s2.lower())\n",
    "print(Ratio)"
   ]
  },
  {
   "cell_type": "code",
   "execution_count": null,
   "metadata": {},
   "outputs": [],
   "source": []
  },
  {
   "cell_type": "code",
   "execution_count": 5,
   "metadata": {},
   "outputs": [
    {
     "name": "stdout",
     "output_type": "stream",
     "text": [
      "80\n",
      "82\n"
     ]
    }
   ],
   "source": [
    "Partial_Ratio = fuzz.partial_ratio(s1.lower(),s3.lower())\n",
    "Token_Set_Ratio = fuzz.token_set_ratio(s1,s3)\n",
    "print(Partial_Ratio)\n",
    "print (Token_Set_Ratio)\n"
   ]
  },
  {
   "cell_type": "code",
   "execution_count": null,
   "metadata": {},
   "outputs": [],
   "source": []
  },
  {
   "cell_type": "code",
   "execution_count": null,
   "metadata": {},
   "outputs": [],
   "source": []
  },
  {
   "cell_type": "code",
   "execution_count": null,
   "metadata": {},
   "outputs": [],
   "source": []
  },
  {
   "cell_type": "code",
   "execution_count": 6,
   "metadata": {},
   "outputs": [
    {
     "name": "stdout",
     "output_type": "stream",
     "text": [
      "90\n",
      "82\n"
     ]
    }
   ],
   "source": []
  },
  {
   "cell_type": "code",
   "execution_count": null,
   "metadata": {},
   "outputs": [],
   "source": []
  },
  {
   "cell_type": "code",
   "execution_count": null,
   "metadata": {},
   "outputs": [],
   "source": []
  },
  {
   "cell_type": "code",
   "execution_count": null,
   "metadata": {},
   "outputs": [],
   "source": []
  },
  {
   "cell_type": "code",
   "execution_count": null,
   "metadata": {},
   "outputs": [],
   "source": []
  }
 ],
 "metadata": {
  "kernelspec": {
   "display_name": "Python 3",
   "language": "python",
   "name": "python3"
  },
  "language_info": {
   "codemirror_mode": {
    "name": "ipython",
    "version": 3
   },
   "file_extension": ".py",
   "mimetype": "text/x-python",
   "name": "python",
   "nbconvert_exporter": "python",
   "pygments_lexer": "ipython3",
   "version": "3.8.1"
  }
 },
 "nbformat": 4,
 "nbformat_minor": 4
}
